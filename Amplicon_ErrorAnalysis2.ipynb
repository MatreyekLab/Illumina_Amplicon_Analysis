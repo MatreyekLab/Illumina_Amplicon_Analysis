{
 "cells": [
  {
   "cell_type": "code",
   "execution_count": 1,
   "id": "b2e3b0c1-dd26-4a97-af46-a0f4a3ed98af",
   "metadata": {
    "tags": []
   },
   "outputs": [
    {
     "data": {
      "text/plain": [
       "1             0.481642\n",
       "WT            0.242403\n",
       "indeletion    0.198408\n",
       "2             0.067064\n",
       "3             0.007722\n",
       "4             0.001747\n",
       "5             0.000648\n",
       "6             0.000162\n",
       "7             0.000106\n",
       "11            0.000042\n",
       "9             0.000028\n",
       "8             0.000021\n",
       "10            0.000007\n",
       "Name: No_mutations, dtype: float64"
      ]
     },
     "execution_count": 1,
     "metadata": {},
     "output_type": "execute_result"
    }
   ],
   "source": [
    "import pandas as pd\n",
    "df = pd.read_csv ('Output_ErrorAnalysis.csv')\n",
    "df['No_mutations'].value_counts(normalize=True)"
   ]
  },
  {
   "cell_type": "code",
   "execution_count": 3,
   "id": "31a33408-f2a3-4a3e-bb2d-c62b35a7ba2d",
   "metadata": {
    "tags": []
   },
   "outputs": [],
   "source": [
    "one_mutation = df[(df[\"No_mutations\"] == '1')]\n",
    "newdf = one_mutation.groupby(['Position','AminoAcid']).AminoAcid.agg('count').to_frame('Count').reset_index()\n",
    "newdf.to_csv('CheckMutatioon.csv')"
   ]
  },
  {
   "cell_type": "code",
   "execution_count": 5,
   "id": "a8e2406c-f750-4ac1-8882-3b8dd9b53834",
   "metadata": {
    "scrolled": true,
    "tags": []
   },
   "outputs": [
    {
     "data": {
      "text/plain": [
       "[111]    22\n",
       "[122]    21\n",
       "[142]    21\n",
       "[131]    21\n",
       "[146]    21\n",
       "[166]    21\n",
       "[90]     21\n",
       "[168]    21\n",
       "[175]    21\n",
       "[102]    18\n",
       "[115]     7\n",
       "Name: Position, dtype: int64"
      ]
     },
     "execution_count": 5,
     "metadata": {},
     "output_type": "execute_result"
    }
   ],
   "source": [
    "newdf['Position'].value_counts()"
   ]
  },
  {
   "cell_type": "code",
   "execution_count": null,
   "id": "2c13be7b-776a-41f9-ac2a-3d8f9da28a8a",
   "metadata": {},
   "outputs": [],
   "source": []
  }
 ],
 "metadata": {
  "kernelspec": {
   "display_name": "Python 3",
   "language": "python",
   "name": "python3"
  },
  "language_info": {
   "codemirror_mode": {
    "name": "ipython",
    "version": 3
   },
   "file_extension": ".py",
   "mimetype": "text/x-python",
   "name": "python",
   "nbconvert_exporter": "python",
   "pygments_lexer": "ipython3",
   "version": "3.9.2"
  }
 },
 "nbformat": 4,
 "nbformat_minor": 5
}
